{
 "cells": [
  {
   "cell_type": "code",
   "execution_count": 1,
   "metadata": {},
   "outputs": [],
   "source": [
    "import pennylane as qml\n",
    "from pennylane import numpy as np\n",
    "import matplotlib.pyplot as plt"
   ]
  },
  {
   "cell_type": "markdown",
   "metadata": {},
   "source": [
    "### The Gell-Mann matrices are shown here:\n",
    "\n",
    "$$\\displaystyle \\hat{t}^{(1)} = \\left(\\begin{array}{ccc} 0 & 1 & 0 \\\\ 1 & 0 & 0\\\\ 0 & 0 & 0\\end{array}\\right) \\;\\;\\;\\;\\;\\;\\;\\;\\;\\; \n",
    "\\hat{t}^{(2)} = \\left(\\begin{array}{ccc} 0 & -i & 0 \\\\ i & 0 & 0\\\\ 0 & 0 & 0\\end{array}\\right)\\;\\;\\;\\;\\;\\;\\;\\;\\;\\;\\hat{t}^{(3)} = \\left(\\begin{array}{ccc} 1 & 0 & 0 \\\\ 0 & -1 & 0\\\\ 0 & 0 & 0\\end{array}\\right)$$\n",
    "$$\\hat{t}^{(4)} = \\left(\\begin{array}{ccc} 0 & 0 & 1 \\\\ 0 & 0 & 0\\\\ 1 & 0 & 0\\end{array}\\right)\\;\\;\\;\\;\\;\\;\\;\\;\\;\\;\n",
    "\\displaystyle \\hat{t}^{(5)} = \\left(\\begin{array}{ccc} 0 & 0 & -i \\\\ 0 & 0 & 0\\\\ i & 0 & 0\\end{array}\\right) \\;\\;\\;\\;\\;\\;\\;\\;\\;\\;\n",
    "\\hat{t}^{(6)} = \\left(\\begin{array}{ccc} 0 & 0 & 0 \\\\ 0 & 0 & 1\\\\ 0 & 1 & 0\\end{array}\\right)$$\n",
    "$$\\hat{t}^{(7)} = \\left(\\begin{array}{ccc} 0 & 0 & 0 \\\\ 0 & 0 & -i\\\\ 0 & i & 0\\end{array}\\right)\\;\\;\\;\\;\\;\\;\\;\\;\\;\\; \\hat{t}^{(8)} = \\frac{1}{\\sqrt{3}}\\left(\\begin{array}{ccc} 1 & 0 & 0 \\\\ 0 & 1 & 0\\\\ 0 & 0 & -2\\end{array}\\right)\\\\$$\n",
    "\n",
    "For convenience, these are packaged as slices of a three-dimensional array. The $3\\times 3$ identity matrix is also defined here and denoted $\\hat{t}^{(0)}$."
   ]
  },
  {
   "cell_type": "code",
   "execution_count": 2,
   "metadata": {},
   "outputs": [],
   "source": [
    "gm_mats = np.zeros((9, 3, 3), dtype=np.complex128)\n",
    "gm_mats[0] = np.eye(3)\n",
    "gm_mats[1] = np.array([[0, 1, 0], [1, 0, 0], [0, 0, 0]])\n",
    "gm_mats[2] = np.array([[0, -1j, 0], [1j, 0, 0], [0, 0, 0]])\n",
    "gm_mats[3] = np.diag([1, -1, 0])\n",
    "gm_mats[4] = np.array([[0, 0, 1], [0, 0, 0], [1, 0, 0]])\n",
    "gm_mats[5] = np.array([[0, 0, -1j], [0, 0, 0], [1j, 0, 0]])\n",
    "gm_mats[6] = np.array([[0, 0, 0], [0, 0, 1], [0, 1, 0]])\n",
    "gm_mats[7] = np.array([[0, 0, 0], [0, 0, -1j], [0, 1j, 0]])\n",
    "gm_mats[8] = np.diag([1, 1, -2]) / np.sqrt(3)"
   ]
  },
  {
   "cell_type": "markdown",
   "metadata": {},
   "source": [
    "### Two-Body Interactions\n",
    "\n",
    "The Hamiltonian for interactions between two sources of color charge is:\n",
    "$$J \\displaystyle \\sum_{\\alpha=1}^8 \\hat{t}_1^{(\\alpha)} \\otimes \\hat{t}_2^{(\\alpha)}$$\n",
    "where $\\hat{t}^{(i)}$ is the $i$-th Gell-Mann matrix, and $J$ is some positive, real constant.\n",
    "\n"
   ]
  },
  {
   "cell_type": "code",
   "execution_count": 3,
   "metadata": {},
   "outputs": [],
   "source": [
    "J = 1.0 # two-body interaction strength\n",
    "\n",
    "H = np.zeros((9, 9), dtype=np.complex128, requires_grad=False)\n",
    "\n",
    "for i in range(1, len(gm_mats)):\n",
    "    H += J * np.kron(gm_mats[i], gm_mats[i])"
   ]
  },
  {
   "cell_type": "code",
   "execution_count": 4,
   "metadata": {},
   "outputs": [
    {
     "data": {
      "text/plain": [
       "-2.6666666666666674"
      ]
     },
     "execution_count": 4,
     "metadata": {},
     "output_type": "execute_result"
    }
   ],
   "source": [
    "w, v = np.linalg.eigh(H)\n",
    "\n",
    "w[0]"
   ]
  },
  {
   "cell_type": "code",
   "execution_count": 5,
   "metadata": {},
   "outputs": [
    {
     "data": {
      "text/plain": [
       "tensor([ 0.        +0.j,  0.        +0.j, -0.70710678+0.j,\n",
       "         0.        +0.j,  0.        +0.j,  0.        +0.j,\n",
       "         0.70710678+0.j,  0.        +0.j,  0.        +0.j], requires_grad=True)"
      ]
     },
     "execution_count": 5,
     "metadata": {},
     "output_type": "execute_result"
    }
   ],
   "source": [
    "v[:, 0]"
   ]
  },
  {
   "cell_type": "markdown",
   "metadata": {},
   "source": [
    "# VQE for two color sources\n",
    "There are two ways going about VQE for our Hamiltonian. The first solution is to create a uniform superposition of all basis states and use a general ansatz to tune the amplitudes of each basis state (i.e. general ansatz).\n",
    "\n",
    "The other solution is to create an ansatz that creates a superposition of all basis states that are present in the lowest-energy eigenstate of the Hamiltonian, and then tune the amplitude (i.e. problem specific ansatz)."
   ]
  },
  {
   "cell_type": "markdown",
   "metadata": {},
   "source": [
    "#### General Ansatz"
   ]
  },
  {
   "cell_type": "code",
   "execution_count": 6,
   "metadata": {},
   "outputs": [],
   "source": [
    "# For the uniform superposition, we need the qutrit Hadamard gate. However, this is\n",
    "# not implemented yet, so I will use `qml.QutritUnitary`\n",
    "omega = np.exp(2 * np.pi * 1j / 3)\n",
    "Hadamard = np.array(\n",
    "    [\n",
    "        [1, 1, 1],\n",
    "        [1, omega, omega**2],\n",
    "        [1, omega**2, omega]\n",
    "    ],\n",
    "    requires_grad=False\n",
    ") * 1j / np.sqrt(3)\n",
    "\n",
    "\n",
    "def create_uniform_superposition():\n",
    "    qml.QutritUnitary(Hadamard, wires=0)\n",
    "    qml.QutritUnitary(Hadamard, wires=1)\n",
    "\n",
    "def rot(weights, wires):\n",
    "    qml.TRY(weights[0], wires=wires, subspace=[0, 1])\n",
    "    qml.TRY(weights[1], wires=wires, subspace=[0, 2])\n",
    "    qml.TRY(weights[2], wires=wires, subspace=[0, 1])\n",
    "    qml.TRZ(weights[3], wires=wires, subspace=[0, 2])\n",
    "    qml.TRZ(weights[4], wires=wires, subspace=[0, 1])\n",
    "    qml.TRY(weights[5], wires=wires, subspace=[0, 1])\n",
    "    qml.TRY(weights[6], wires=wires, subspace=[0, 2])\n",
    "    qml.TRY(weights[7], wires=wires, subspace=[0, 1])\n",
    "\n",
    "\n",
    "def ansatz(params, check_state=False):\n",
    "    create_uniform_superposition()\n",
    "\n",
    "    # Trainable layer\n",
    "    rot(params[0], 0)\n",
    "    rot(params[1], 1)\n",
    "    qml.TAdd(wires=[1, 0])\n",
    "    \n",
    "    rot(params[2], 0)\n",
    "    rot(params[3], 1)\n",
    "    qml.TAdd(wires=[0, 1])\n",
    "\n",
    "    if check_state:\n",
    "        return qml.state()\n",
    "\n",
    "    return qml.expval(qml.THermitian(H, wires=[0, 1]))"
   ]
  },
  {
   "cell_type": "code",
   "execution_count": 7,
   "metadata": {},
   "outputs": [
    {
     "name": "stdout",
     "output_type": "stream",
     "text": [
      "Loss at iteration  0 =  0.45627653\n",
      "Loss at iteration  5 = -0.25644227\n",
      "Loss at iteration 10 = -1.21379548\n",
      "Loss at iteration 15 = -1.93248426\n",
      "Loss at iteration 20 = -2.30995289\n",
      "Loss at iteration 25 = -2.48755028\n",
      "Loss at iteration 30 = -2.56782830\n",
      "Loss at iteration 35 = -2.60522166\n",
      "Loss at iteration 40 = -2.62440050\n",
      "Loss at iteration 45 = -2.63551346\n",
      "Loss at iteration 50 = -2.64267981\n",
      "Loss at iteration 55 = -2.64767115\n",
      "Loss at iteration 60 = -2.65133113\n",
      "Loss at iteration 65 = -2.65410934\n",
      "Loss at iteration 70 = -2.65627015\n",
      "Loss at iteration 75 = -2.65798125\n",
      "Loss at iteration 80 = -2.65935517\n",
      "Loss at iteration 85 = -2.66047067\n",
      "Loss at iteration 90 = -2.66138464\n",
      "Loss at iteration 95 = -2.66213927\n"
     ]
    }
   ],
   "source": [
    "dev = qml.device(\"default.qutrit\", wires=2)\n",
    "ansatz_qnode = qml.QNode(ansatz, dev)\n",
    "\n",
    "weights = np.random.normal(size=(4, 8))\n",
    "\n",
    "opt = qml.GradientDescentOptimizer(stepsize=0.05)\n",
    "\n",
    "n_its = 100\n",
    "\n",
    "losses = []\n",
    "\n",
    "for it in range(n_its):\n",
    "    weights, _loss = opt.step_and_cost(ansatz_qnode, weights)\n",
    "    losses.append(_loss)\n",
    "    \n",
    "    if it % 5 == 0:\n",
    "        print(f\"Loss at iteration {it:2} = {_loss: .8f}\")"
   ]
  },
  {
   "cell_type": "code",
   "execution_count": 8,
   "metadata": {},
   "outputs": [
    {
     "data": {
      "text/plain": [
       "[<matplotlib.lines.Line2D at 0x7f067ad47f10>]"
      ]
     },
     "execution_count": 8,
     "metadata": {},
     "output_type": "execute_result"
    },
    {
     "data": {
      "image/png": "[encoded data removed]",
      "text/plain": [
       "<Figure size 432x288 with 1 Axes>"
      ]
     },
     "metadata": {
      "needs_background": "light"
     },
     "output_type": "display_data"
    }
   ],
   "source": [
    "plt.plot(losses)"
   ]
  },
  {
   "cell_type": "code",
   "execution_count": 9,
   "metadata": {},
   "outputs": [
    {
     "data": {
      "text/plain": [
       "tensor(-2.66264996, requires_grad=True)"
      ]
     },
     "execution_count": 9,
     "metadata": {},
     "output_type": "execute_result"
    }
   ],
   "source": [
    "losses[-1]"
   ]
  },
  {
   "cell_type": "code",
   "execution_count": 10,
   "metadata": {},
   "outputs": [
    {
     "data": {
      "text/plain": [
       "-2.6666666666666674"
      ]
     },
     "execution_count": 10,
     "metadata": {},
     "output_type": "execute_result"
    }
   ],
   "source": [
    "w, v = np.linalg.eigh(H)\n",
    "\n",
    "w[0]"
   ]
  },
  {
   "cell_type": "code",
   "execution_count": 11,
   "metadata": {},
   "outputs": [
    {
     "data": {
      "text/plain": [
       "tensor([ 0.        +0.j,  0.        +0.j, -0.70710678+0.j,\n",
       "         0.        +0.j,  0.        +0.j,  0.        +0.j,\n",
       "         0.70710678+0.j,  0.        +0.j,  0.        +0.j], requires_grad=True)"
      ]
     },
     "execution_count": 11,
     "metadata": {},
     "output_type": "execute_result"
    }
   ],
   "source": [
    "v[:, 0]"
   ]
  },
  {
   "cell_type": "code",
   "execution_count": 12,
   "metadata": {},
   "outputs": [
    {
     "data": {
      "text/plain": [
       "tensor([ 0.02473158+0.00367641j,  0.24406424+0.11463965j,\n",
       "         0.19016448+0.44459137j, -0.23961655-0.10874607j,\n",
       "         0.00458385-0.00692215j, -0.39910079+0.19018141j,\n",
       "        -0.19773008-0.43575196j,  0.39890652-0.19958695j,\n",
       "        -0.00722396+0.00946428j], requires_grad=True)"
      ]
     },
     "execution_count": 12,
     "metadata": {},
     "output_type": "execute_result"
    }
   ],
   "source": [
    "ansatz_qnode(weights, check_state=True)"
   ]
  },
  {
   "cell_type": "markdown",
   "metadata": {},
   "source": [
    "#### Problem Specific Ansatz\n",
    "\n",
    "Earlier, we saw that the lowest-energy eigenstate of the Hamiltonian is\n",
    "$$\\displaystyle \\frac{1}{\\sqrt{2}} \\begin{bmatrix}\n",
    "0\\\\\n",
    "0\\\\\n",
    "-1\\\\\n",
    "0\\\\\n",
    "0\\\\\n",
    "0\\\\\n",
    "1\\\\\n",
    "0\\\\\n",
    "0\\\\\n",
    "\\end{bmatrix} = \\frac{1}{\\sqrt{2}} \\left( -|rg\\rangle + |gr\\rangle\\right)$$\n",
    "\n",
    "Let's create an ansatz that is more optimal for creating this specific state"
   ]
  },
  {
   "cell_type": "code",
   "execution_count": 13,
   "metadata": {},
   "outputs": [],
   "source": [
    "def ansatz_specific(params, check_state=False):\n",
    "    qml.TRY(params[0], wires=1, subspace=[0, 2])\n",
    "    qml.TAdd(wires=[1, 0])\n",
    "    qml.TRY(params[1], wires=0, subspace=[0, 2])\n",
    "\n",
    "    if check_state:\n",
    "        return qml.state()\n",
    "\n",
    "    return qml.expval(qml.THermitian(H, wires=[0, 1]))"
   ]
  },
  {
   "cell_type": "code",
   "execution_count": 14,
   "metadata": {},
   "outputs": [
    {
     "name": "stdout",
     "output_type": "stream",
     "text": [
      "Loss at iteration  0 = -1.28335299\n",
      "Loss at iteration  5 = -1.98553410\n",
      "Loss at iteration 10 = -2.38751239\n",
      "Loss at iteration 15 = -2.56286033\n",
      "Loss at iteration 20 = -2.62960570\n",
      "Loss at iteration 25 = -2.65363528\n",
      "Loss at iteration 30 = -2.66210948\n",
      "Loss at iteration 35 = -2.66507603\n",
      "Loss at iteration 40 = -2.66611185\n",
      "Loss at iteration 45 = -2.66647319\n",
      "Loss at iteration 50 = -2.66659920\n",
      "Loss at iteration 55 = -2.66664314\n",
      "Loss at iteration 60 = -2.66665846\n",
      "Loss at iteration 65 = -2.66666381\n",
      "Loss at iteration 70 = -2.66666567\n",
      "Loss at iteration 75 = -2.66666632\n",
      "Loss at iteration 80 = -2.66666655\n",
      "Loss at iteration 85 = -2.66666662\n",
      "Loss at iteration 90 = -2.66666665\n",
      "Loss at iteration 95 = -2.66666666\n"
     ]
    }
   ],
   "source": [
    "ansatz_specific_qnode = qml.QNode(ansatz_specific, dev)\n",
    "\n",
    "weights = np.random.normal(size=4)\n",
    "\n",
    "opt = qml.GradientDescentOptimizer(stepsize=0.05)\n",
    "\n",
    "n_its = 100\n",
    "\n",
    "losses = []\n",
    "\n",
    "for it in range(n_its):\n",
    "    weights, _loss = opt.step_and_cost(ansatz_specific_qnode, weights)\n",
    "    losses.append(_loss)\n",
    "    \n",
    "    if it % 5 == 0:\n",
    "        print(f\"Loss at iteration {it:2} = {_loss: .8f}\")"
   ]
  },
  {
   "cell_type": "code",
   "execution_count": 15,
   "metadata": {},
   "outputs": [
    {
     "data": {
      "text/plain": [
       "[<matplotlib.lines.Line2D at 0x7f067add5130>]"
      ]
     },
     "execution_count": 15,
     "metadata": {},
     "output_type": "execute_result"
    },
    {
     "data": {
      "image/png": "[encoded data removed]",
      "text/plain": [
       "<Figure size 432x288 with 1 Axes>"
      ]
     },
     "metadata": {
      "needs_background": "light"
     },
     "output_type": "display_data"
    }
   ],
   "source": [
    "plt.plot(losses)"
   ]
  },
  {
   "cell_type": "code",
   "execution_count": 16,
   "metadata": {},
   "outputs": [
    {
     "data": {
      "text/plain": [
       "tensor(-2.66666666, requires_grad=True)"
      ]
     },
     "execution_count": 16,
     "metadata": {},
     "output_type": "execute_result"
    }
   ],
   "source": [
    "losses[-1]"
   ]
  },
  {
   "cell_type": "code",
   "execution_count": 17,
   "metadata": {},
   "outputs": [
    {
     "data": {
      "text/plain": [
       "-2.6666666666666674"
      ]
     },
     "execution_count": 17,
     "metadata": {},
     "output_type": "execute_result"
    }
   ],
   "source": [
    "w, v = np.linalg.eigh(H)\n",
    "\n",
    "w[0]"
   ]
  },
  {
   "cell_type": "code",
   "execution_count": 18,
   "metadata": {},
   "outputs": [
    {
     "data": {
      "text/plain": [
       "tensor([ 0.        +0.j,  0.        +0.j, -0.70710678+0.j,\n",
       "         0.        +0.j,  0.        +0.j,  0.        +0.j,\n",
       "         0.70710678+0.j,  0.        +0.j,  0.        +0.j], requires_grad=True)"
      ]
     },
     "execution_count": 18,
     "metadata": {},
     "output_type": "execute_result"
    }
   ],
   "source": [
    "v[:, 0]"
   ]
  },
  {
   "cell_type": "code",
   "execution_count": 19,
   "metadata": {},
   "outputs": [
    {
     "data": {
      "text/plain": [
       "tensor([ 1.11133692e-05+0.j,  0.00000000e+00+0.j, -7.07096719e-01+0.j,\n",
       "         0.00000000e+00+0.j,  0.00000000e+00+0.j,  0.00000000e+00+0.j,\n",
       "         7.07116843e-01+0.j,  0.00000000e+00+0.j,  1.11130529e-05+0.j], requires_grad=True)"
      ]
     },
     "execution_count": 19,
     "metadata": {},
     "output_type": "execute_result"
    }
   ],
   "source": [
    "ansatz_specific_qnode(weights, check_state=True)"
   ]
  },
  {
   "cell_type": "markdown",
   "metadata": {},
   "source": [
    "# Hamiltonian simulation for two color sources"
   ]
  }
 ],
 "metadata": {
  "kernelspec": {
   "display_name": "Python 3.9.12 ('qudit')",
   "language": "python",
   "name": "python3"
  },
  "language_info": {
   "codemirror_mode": {
    "name": "ipython",
    "version": 3
   },
   "file_extension": ".py",
   "mimetype": "text/x-python",
   "name": "python",
   "nbconvert_exporter": "python",
   "pygments_lexer": "ipython3",
   "version": "3.9.12"
  },
  "orig_nbformat": 4,
  "vscode": {
   "interpreter": {
    "hash": "8260a2f6971157d10b7acd7217e302edff5c5227882e7f1a3fb9ca5b150df2df"
   }
  }
 },
 "nbformat": 4,
 "nbformat_minor": 2
}
